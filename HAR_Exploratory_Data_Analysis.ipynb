{
 "cells": [
  {
   "cell_type": "markdown",
   "metadata": {},
   "source": [
    "## 1. Load libraries and dependencies"
   ]
  },
  {
   "cell_type": "code",
   "execution_count": 2,
   "metadata": {},
   "outputs": [],
   "source": [
    "import warnings\n",
    "import pandas as pd\n",
    "import numpy as np\n",
    "import seaborn as sns\n",
    "import matplotlib.pyplot as plt\n",
    "from scipy import stats\n",
    "import tensorflow as tf\n",
    "warnings.filterwarnings('ignore') #This line filters all warnings from import.\n",
    "\n",
    "%matplotlib inline\n",
    "plt.style.use('ggplot')\n",
    "sns.set(color_codes=True)"
   ]
  },
  {
   "cell_type": "markdown",
   "metadata": {},
   "source": [
    "## 2. Download the Data"
   ]
  },
  {
   "cell_type": "code",
   "execution_count": 3,
   "metadata": {},
   "outputs": [],
   "source": [
    "import os\n",
    "from zipfile import ZipFile\n",
    "from six.moves import urllib\n",
    "\n",
    "DOWNLOAD_ROOT = \"https://bbdc.csl.uni-bremen.de/\"\n",
    "BBDC_PATH = \"images/2019\"\n",
    "BBDC_URL = DOWNLOAD_ROOT + BBDC_PATH + \"/bbdc_2019_Bewegungsdaten_mit_referenz.zip\"\n",
    "\n",
    "def fetch_actvty_recogn_data(bbdc_url=BBDC_URL, bbdc_path=BBDC_PATH):\n",
    "    if not os.path.isdir(bbdc_path):\n",
    "        os.makedirs(bbdc_path)\n",
    "    zip_path = os.path.join(bbdc_path, \"bbdc_2019_Bewegungsdaten_mit_referenz.zip\")\n",
    "    urllib.request.urlretrieve(bbdc_url, zip_path)\n",
    "    activity_zip = ZipFile(zip_path)\n",
    "    activity_zip.extractall(path=bbdc_path)\n",
    "    activity_zip.close()"
   ]
  },
  {
   "cell_type": "code",
   "execution_count": 4,
   "metadata": {},
   "outputs": [],
   "source": [
    "# Call the function to fetch the data\n",
    "fetch_actvty_recogn_data()"
   ]
  },
  {
   "cell_type": "markdown",
   "metadata": {},
   "source": [
    "### Load the Training Data"
   ]
  },
  {
   "cell_type": "code",
   "execution_count": 26,
   "metadata": {},
   "outputs": [],
   "source": [
    "def load_activity_data(bbdc_path=BBDC_PATH):        # Function to load the train data\n",
    "    train_set = os.path.join(bbdc_path, \"train.csv\")\n",
    "    return pd.read_csv(train_set)"
   ]
  },
  {
   "cell_type": "markdown",
   "metadata": {},
   "source": [
    "### Take a quick look at the Data Structure"
   ]
  },
  {
   "cell_type": "code",
   "execution_count": 6,
   "metadata": {},
   "outputs": [
    {
     "data": {
      "text/html": [
       "<div>\n",
       "<style scoped>\n",
       "    .dataframe tbody tr th:only-of-type {\n",
       "        vertical-align: middle;\n",
       "    }\n",
       "\n",
       "    .dataframe tbody tr th {\n",
       "        vertical-align: top;\n",
       "    }\n",
       "\n",
       "    .dataframe thead th {\n",
       "        text-align: right;\n",
       "    }\n",
       "</style>\n",
       "<table border=\"1\" class=\"dataframe\">\n",
       "  <thead>\n",
       "    <tr style=\"text-align: right;\">\n",
       "      <th></th>\n",
       "      <th>Subject</th>\n",
       "      <th>Datafile</th>\n",
       "      <th>Label</th>\n",
       "    </tr>\n",
       "  </thead>\n",
       "  <tbody>\n",
       "    <tr>\n",
       "      <th>0</th>\n",
       "      <td>Subject02</td>\n",
       "      <td>Subject02/Subject02_Aufnahme000.csv</td>\n",
       "      <td>curve-left-step</td>\n",
       "    </tr>\n",
       "    <tr>\n",
       "      <th>1</th>\n",
       "      <td>Subject02</td>\n",
       "      <td>Subject02/Subject02_Aufnahme001.csv</td>\n",
       "      <td>curve-left-step</td>\n",
       "    </tr>\n",
       "    <tr>\n",
       "      <th>2</th>\n",
       "      <td>Subject02</td>\n",
       "      <td>Subject02/Subject02_Aufnahme002.csv</td>\n",
       "      <td>stand-to-sit</td>\n",
       "    </tr>\n",
       "    <tr>\n",
       "      <th>3</th>\n",
       "      <td>Subject02</td>\n",
       "      <td>Subject02/Subject02_Aufnahme003.csv</td>\n",
       "      <td>curve-right-spin-Rfirst</td>\n",
       "    </tr>\n",
       "    <tr>\n",
       "      <th>4</th>\n",
       "      <td>Subject02</td>\n",
       "      <td>Subject02/Subject02_Aufnahme004.csv</td>\n",
       "      <td>jump-one-leg</td>\n",
       "    </tr>\n",
       "  </tbody>\n",
       "</table>\n",
       "</div>"
      ],
      "text/plain": [
       "     Subject                             Datafile                    Label\n",
       "0  Subject02  Subject02/Subject02_Aufnahme000.csv          curve-left-step\n",
       "1  Subject02  Subject02/Subject02_Aufnahme001.csv          curve-left-step\n",
       "2  Subject02  Subject02/Subject02_Aufnahme002.csv             stand-to-sit\n",
       "3  Subject02  Subject02/Subject02_Aufnahme003.csv  curve-right-spin-Rfirst\n",
       "4  Subject02  Subject02/Subject02_Aufnahme004.csv             jump-one-leg"
      ]
     },
     "execution_count": 6,
     "metadata": {},
     "output_type": "execute_result"
    }
   ],
   "source": [
    "train_set = load_activity_data()\n",
    "train_set.head()"
   ]
  },
  {
   "cell_type": "code",
   "execution_count": 8,
   "metadata": {},
   "outputs": [
    {
     "data": {
      "text/plain": [
       "(6401, 3)"
      ]
     },
     "execution_count": 8,
     "metadata": {},
     "output_type": "execute_result"
    }
   ],
   "source": [
    "# Total number of rows and columns\n",
    "train_set.shape"
   ]
  },
  {
   "cell_type": "code",
   "execution_count": 9,
   "metadata": {},
   "outputs": [
    {
     "name": "stdout",
     "output_type": "stream",
     "text": [
      "number of duplicate rows:  (0, 3)\n"
     ]
    }
   ],
   "source": [
    "# Rows containing duplicate data\n",
    "duplicate_rows_train_set = train_set[train_set.duplicated()]\n",
    "print(\"number of duplicate rows: \", duplicate_rows_train_set.shape)"
   ]
  },
  {
   "cell_type": "code",
   "execution_count": 10,
   "metadata": {},
   "outputs": [
    {
     "data": {
      "text/plain": [
       "Subject     6401\n",
       "Datafile    6401\n",
       "Label       6401\n",
       "dtype: int64"
      ]
     },
     "execution_count": 10,
     "metadata": {},
     "output_type": "execute_result"
    }
   ],
   "source": [
    "# Counting the number of rows if duplicates were found and removed.    #Step not necessary since no duplicates were found\n",
    "train_set.count()"
   ]
  },
  {
   "cell_type": "code",
   "execution_count": 11,
   "metadata": {},
   "outputs": [
    {
     "data": {
      "text/plain": [
       "Subject06    455\n",
       "Subject03    440\n",
       "Subject17    440\n",
       "Subject19    440\n",
       "Subject02    440\n",
       "Subject07    440\n",
       "Subject13    440\n",
       "Subject12    440\n",
       "Subject09    439\n",
       "Subject04    438\n",
       "Subject05    438\n",
       "Subject18    436\n",
       "Subject11    432\n",
       "Subject08    428\n",
       "Subject16    255\n",
       "Name: Subject, dtype: int64"
      ]
     },
     "execution_count": 11,
     "metadata": {},
     "output_type": "execute_result"
    }
   ],
   "source": [
    "train_set[\"Subject\"].value_counts()"
   ]
  },
  {
   "cell_type": "code",
   "execution_count": 12,
   "metadata": {},
   "outputs": [
    {
     "name": "stdout",
     "output_type": "stream",
     "text": [
      "Subject     0\n",
      "Datafile    0\n",
      "Label       0\n",
      "dtype: int64\n"
     ]
    }
   ],
   "source": [
    "# Finding the null values.\n",
    "print(train_set.isnull().sum())"
   ]
  },
  {
   "cell_type": "code",
   "execution_count": 13,
   "metadata": {},
   "outputs": [
    {
     "data": {
      "text/html": [
       "<div>\n",
       "<style scoped>\n",
       "    .dataframe tbody tr th:only-of-type {\n",
       "        vertical-align: middle;\n",
       "    }\n",
       "\n",
       "    .dataframe tbody tr th {\n",
       "        vertical-align: top;\n",
       "    }\n",
       "\n",
       "    .dataframe thead th {\n",
       "        text-align: right;\n",
       "    }\n",
       "</style>\n",
       "<table border=\"1\" class=\"dataframe\">\n",
       "  <thead>\n",
       "    <tr style=\"text-align: right;\">\n",
       "      <th></th>\n",
       "      <th>Subject</th>\n",
       "      <th>Datafile</th>\n",
       "      <th>Label</th>\n",
       "    </tr>\n",
       "  </thead>\n",
       "  <tbody>\n",
       "    <tr>\n",
       "      <th>6396</th>\n",
       "      <td>Subject19</td>\n",
       "      <td>Subject19/Subject19_Aufnahme435.csv</td>\n",
       "      <td>curve-left-spin-Rfirst</td>\n",
       "    </tr>\n",
       "    <tr>\n",
       "      <th>6397</th>\n",
       "      <td>Subject19</td>\n",
       "      <td>Subject19/Subject19_Aufnahme436.csv</td>\n",
       "      <td>jump-one-leg</td>\n",
       "    </tr>\n",
       "    <tr>\n",
       "      <th>6398</th>\n",
       "      <td>Subject19</td>\n",
       "      <td>Subject19/Subject19_Aufnahme437.csv</td>\n",
       "      <td>jump-two-leg</td>\n",
       "    </tr>\n",
       "    <tr>\n",
       "      <th>6399</th>\n",
       "      <td>Subject19</td>\n",
       "      <td>Subject19/Subject19_Aufnahme438.csv</td>\n",
       "      <td>curve-right-step</td>\n",
       "    </tr>\n",
       "    <tr>\n",
       "      <th>6400</th>\n",
       "      <td>Subject19</td>\n",
       "      <td>Subject19/Subject19_Aufnahme439.csv</td>\n",
       "      <td>curve-right-spin-Rfirst</td>\n",
       "    </tr>\n",
       "  </tbody>\n",
       "</table>\n",
       "</div>"
      ],
      "text/plain": [
       "        Subject                             Datafile                    Label\n",
       "6396  Subject19  Subject19/Subject19_Aufnahme435.csv   curve-left-spin-Rfirst\n",
       "6397  Subject19  Subject19/Subject19_Aufnahme436.csv             jump-one-leg\n",
       "6398  Subject19  Subject19/Subject19_Aufnahme437.csv             jump-two-leg\n",
       "6399  Subject19  Subject19/Subject19_Aufnahme438.csv         curve-right-step\n",
       "6400  Subject19  Subject19/Subject19_Aufnahme439.csv  curve-right-spin-Rfirst"
      ]
     },
     "execution_count": 13,
     "metadata": {},
     "output_type": "execute_result"
    }
   ],
   "source": [
    "train_set.tail()"
   ]
  },
  {
   "cell_type": "code",
   "execution_count": 14,
   "metadata": {},
   "outputs": [
    {
     "name": "stdout",
     "output_type": "stream",
     "text": [
      "<class 'pandas.core.frame.DataFrame'>\n",
      "RangeIndex: 6401 entries, 0 to 6400\n",
      "Data columns (total 3 columns):\n",
      "Subject     6401 non-null object\n",
      "Datafile    6401 non-null object\n",
      "Label       6401 non-null object\n",
      "dtypes: object(3)\n",
      "memory usage: 150.1+ KB\n"
     ]
    }
   ],
   "source": [
    "# We get a quick description of the data\n",
    "train_set.info()"
   ]
  },
  {
   "cell_type": "code",
   "execution_count": 15,
   "metadata": {},
   "outputs": [
    {
     "data": {
      "text/html": [
       "<div>\n",
       "<style scoped>\n",
       "    .dataframe tbody tr th:only-of-type {\n",
       "        vertical-align: middle;\n",
       "    }\n",
       "\n",
       "    .dataframe tbody tr th {\n",
       "        vertical-align: top;\n",
       "    }\n",
       "\n",
       "    .dataframe thead th {\n",
       "        text-align: right;\n",
       "    }\n",
       "</style>\n",
       "<table border=\"1\" class=\"dataframe\">\n",
       "  <thead>\n",
       "    <tr style=\"text-align: right;\">\n",
       "      <th></th>\n",
       "      <th>Subject</th>\n",
       "      <th>Datafile</th>\n",
       "      <th>Label</th>\n",
       "    </tr>\n",
       "  </thead>\n",
       "  <tbody>\n",
       "    <tr>\n",
       "      <th>count</th>\n",
       "      <td>6401</td>\n",
       "      <td>6401</td>\n",
       "      <td>6401</td>\n",
       "    </tr>\n",
       "    <tr>\n",
       "      <th>unique</th>\n",
       "      <td>15</td>\n",
       "      <td>6401</td>\n",
       "      <td>23</td>\n",
       "    </tr>\n",
       "    <tr>\n",
       "      <th>top</th>\n",
       "      <td>Subject06</td>\n",
       "      <td>Subject13/Subject13_Aufnahme358.csv</td>\n",
       "      <td>curve-left-spin-Rfirst</td>\n",
       "    </tr>\n",
       "    <tr>\n",
       "      <th>freq</th>\n",
       "      <td>455</td>\n",
       "      <td>1</td>\n",
       "      <td>320</td>\n",
       "    </tr>\n",
       "  </tbody>\n",
       "</table>\n",
       "</div>"
      ],
      "text/plain": [
       "          Subject                             Datafile                   Label\n",
       "count        6401                                 6401                    6401\n",
       "unique         15                                 6401                      23\n",
       "top     Subject06  Subject13/Subject13_Aufnahme358.csv  curve-left-spin-Rfirst\n",
       "freq          455                                    1                     320"
      ]
     },
     "execution_count": 15,
     "metadata": {},
     "output_type": "execute_result"
    }
   ],
   "source": [
    "# We get a summary of the numerical attributes\n",
    "train_set.describe()"
   ]
  },
  {
   "cell_type": "code",
   "execution_count": 16,
   "metadata": {},
   "outputs": [
    {
     "data": {
      "text/plain": [
       "Subject     object\n",
       "Datafile    object\n",
       "Label       object\n",
       "dtype: object"
      ]
     },
     "execution_count": 16,
     "metadata": {},
     "output_type": "execute_result"
    }
   ],
   "source": [
    "train_set.dtypes"
   ]
  },
  {
   "cell_type": "markdown",
   "metadata": {},
   "source": [
    "### Load the Test Data"
   ]
  },
  {
   "cell_type": "code",
   "execution_count": 24,
   "metadata": {},
   "outputs": [],
   "source": [
    "import pandas as pd \n",
    "\n",
    "def load_activity_data(bbdc_path=BBDC_PATH):        # Function to load the train data\n",
    "    test_set = os.path.join(bbdc_path, \"challenge.csv\")\n",
    "    return pd.read_csv(test_set)"
   ]
  },
  {
   "cell_type": "code",
   "execution_count": 25,
   "metadata": {},
   "outputs": [
    {
     "data": {
      "text/html": [
       "<div>\n",
       "<style scoped>\n",
       "    .dataframe tbody tr th:only-of-type {\n",
       "        vertical-align: middle;\n",
       "    }\n",
       "\n",
       "    .dataframe tbody tr th {\n",
       "        vertical-align: top;\n",
       "    }\n",
       "\n",
       "    .dataframe thead th {\n",
       "        text-align: right;\n",
       "    }\n",
       "</style>\n",
       "<table border=\"1\" class=\"dataframe\">\n",
       "  <thead>\n",
       "    <tr style=\"text-align: right;\">\n",
       "      <th></th>\n",
       "      <th>Subject</th>\n",
       "      <th>Datafile</th>\n",
       "      <th>Label</th>\n",
       "    </tr>\n",
       "  </thead>\n",
       "  <tbody>\n",
       "    <tr>\n",
       "      <th>0</th>\n",
       "      <td>Subject01</td>\n",
       "      <td>Subject01/Subject01_Aufnahme000.csv</td>\n",
       "      <td>X</td>\n",
       "    </tr>\n",
       "    <tr>\n",
       "      <th>1</th>\n",
       "      <td>Subject01</td>\n",
       "      <td>Subject01/Subject01_Aufnahme001.csv</td>\n",
       "      <td>X</td>\n",
       "    </tr>\n",
       "    <tr>\n",
       "      <th>2</th>\n",
       "      <td>Subject01</td>\n",
       "      <td>Subject01/Subject01_Aufnahme002.csv</td>\n",
       "      <td>X</td>\n",
       "    </tr>\n",
       "    <tr>\n",
       "      <th>3</th>\n",
       "      <td>Subject01</td>\n",
       "      <td>Subject01/Subject01_Aufnahme003.csv</td>\n",
       "      <td>X</td>\n",
       "    </tr>\n",
       "    <tr>\n",
       "      <th>4</th>\n",
       "      <td>Subject01</td>\n",
       "      <td>Subject01/Subject01_Aufnahme004.csv</td>\n",
       "      <td>X</td>\n",
       "    </tr>\n",
       "  </tbody>\n",
       "</table>\n",
       "</div>"
      ],
      "text/plain": [
       "     Subject                             Datafile Label\n",
       "0  Subject01  Subject01/Subject01_Aufnahme000.csv     X\n",
       "1  Subject01  Subject01/Subject01_Aufnahme001.csv     X\n",
       "2  Subject01  Subject01/Subject01_Aufnahme002.csv     X\n",
       "3  Subject01  Subject01/Subject01_Aufnahme003.csv     X\n",
       "4  Subject01  Subject01/Subject01_Aufnahme004.csv     X"
      ]
     },
     "execution_count": 25,
     "metadata": {},
     "output_type": "execute_result"
    }
   ],
   "source": [
    "test_set = load_activity_data()\n",
    "test_set.head()"
   ]
  },
  {
   "cell_type": "code",
   "execution_count": null,
   "metadata": {},
   "outputs": [],
   "source": []
  },
  {
   "cell_type": "code",
   "execution_count": null,
   "metadata": {},
   "outputs": [],
   "source": []
  }
 ],
 "metadata": {
  "kernelspec": {
   "display_name": "ML_w_SkL_Tflow",
   "language": "python",
   "name": "ml_w_skl_tflow"
  },
  "language_info": {
   "codemirror_mode": {
    "name": "ipython",
    "version": 3
   },
   "file_extension": ".py",
   "mimetype": "text/x-python",
   "name": "python",
   "nbconvert_exporter": "python",
   "pygments_lexer": "ipython3",
   "version": "3.6.9"
  }
 },
 "nbformat": 4,
 "nbformat_minor": 2
}
